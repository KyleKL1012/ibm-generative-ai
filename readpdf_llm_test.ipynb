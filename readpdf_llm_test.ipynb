{
 "cells": [
  {
   "cell_type": "code",
   "execution_count": 1,
   "id": "63944c5c-6791-4960-9bdf-23aa8bbd6f2b",
   "metadata": {},
   "outputs": [],
   "source": [
    "import os\n",
    "import PyPDF2\n",
    "import re\n",
    "from dotenv import load_dotenv\n",
    "from genai.extensions.langchain import LangChainInterface\n",
    "from genai.schemas import GenerateParams\n",
    "from genai.credentials import Credentials"
   ]
  },
  {
   "cell_type": "code",
   "execution_count": 2,
   "id": "1d032cf7-b9b1-411b-9b5d-0e3a83e337e0",
   "metadata": {},
   "outputs": [],
   "source": [
    "# Load environment variables\n",
    "load_dotenv()\n",
    "api_key = os.getenv(\"GENAI_KEY\", None)\n",
    "api_url = os.getenv(\"GENAI_API\", None)\n",
    "creds = Credentials(api_key, api_endpoint=api_url)"
   ]
  },
  {
   "cell_type": "code",
   "execution_count": 3,
   "id": "20736da9-df49-4b52-b4e1-0d173f956828",
   "metadata": {},
   "outputs": [],
   "source": [
    "# Load the PDF file and extract text\n",
    "pdf_path = \"examples/POC datasets/Car Parts Sales Contract1.pdf\"\n",
    "with open(pdf_path, \"rb\") as file:\n",
    "    reader = PyPDF2.PdfReader(file)\n",
    "    text = \"\"\n",
    "    for page in reader.pages:\n",
    "        text += page.extract_text()"
   ]
  },
  {
   "cell_type": "code",
   "execution_count": 4,
   "id": "ae547e60-4cd8-4d29-94c4-1c36a126edba",
   "metadata": {},
   "outputs": [
    {
     "name": "stdout",
     "output_type": "stream",
     "text": [
      "The discount mentioned in the document is: 10.0%\n"
     ]
    }
   ],
   "source": [
    "# Find the discount information in the extracted text\n",
    "discount = None\n",
    "discount_match = re.search(r\"(\\d+(?:\\.\\d+)?)%\", text)\n",
    "if discount_match:\n",
    "    discount = float(discount_match.group(1))\n",
    "\n",
    "print(f\"The discount mentioned in the document is: {discount}%\")"
   ]
  },
  {
   "cell_type": "code",
   "execution_count": 5,
   "id": "80dbaa20-2011-4a59-82e1-13ea3a85815b",
   "metadata": {},
   "outputs": [
    {
     "name": "stdout",
     "output_type": "stream",
     "text": [
      "\n",
      "------------- Example (LangChain)-------------\n",
      "\n",
      "Using GenAI Model expressed as LangChain Model via LangChainInterface:\n",
      "Answer: Auto Ltd\n"
     ]
    }
   ],
   "source": [
    "# Use GenAI LangChain model to answer questions based on the extracted text\n",
    "print(\"\\n------------- Example (LangChain)-------------\\n\")\n",
    "\n",
    "params = GenerateParams(decoding_method=\"greedy\")\n",
    "\n",
    "print(\"Using GenAI Model expressed as LangChain Model via LangChainInterface:\")\n",
    "\n",
    "langchain_model = LangChainInterface(model=\"google/flan-t5-xxl\", params=params, credentials=creds)\n",
    "question = \"What is the company mentioned in the document? The context is: \" + text\n",
    "answer = langchain_model(question)\n",
    "\n",
    "print(f\"Answer: {answer}\")"
   ]
  },
  {
   "cell_type": "code",
   "execution_count": null,
   "id": "279c18f2-7d84-432e-a8aa-278dfc5dec67",
   "metadata": {},
   "outputs": [],
   "source": []
  }
 ],
 "metadata": {
  "kernelspec": {
   "display_name": "Python 3 (ipykernel)",
   "language": "python",
   "name": "python3"
  },
  "language_info": {
   "codemirror_mode": {
    "name": "ipython",
    "version": 3
   },
   "file_extension": ".py",
   "mimetype": "text/x-python",
   "name": "python",
   "nbconvert_exporter": "python",
   "pygments_lexer": "ipython3",
   "version": "3.10.11"
  }
 },
 "nbformat": 4,
 "nbformat_minor": 5
}
